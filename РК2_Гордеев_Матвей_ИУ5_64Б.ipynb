{
  "nbformat": 4,
  "nbformat_minor": 0,
  "metadata": {
    "colab": {
      "provenance": []
    },
    "kernelspec": {
      "name": "python3",
      "display_name": "Python 3"
    },
    "language_info": {
      "name": "python"
    }
  },
  "cells": [
    {
      "cell_type": "markdown",
      "source": [
        "**Студент: Гордеев Матвей**\n",
        "\n",
        "**Группа: ИУ5-64Б**\n",
        "\n",
        "**Вариант: 2**\n",
        "\n",
        "**Задача**\n",
        "\n",
        "Для заданного набора данных (load_wine) постройте модель классификации. Для построения моделей используйте методы \"Линейная/логистическая регрессия\" и \"Градиентный бустинг\". Оцените качество моделей на основе подходящих метрик качества (не менее двух метрик). Какие метрики качества Вы использовали и почему? Какие выводы Вы можете сделать о качестве построенных моделей? Для построения моделей необходимо выполнить требуемую предобработку данных: заполнение пропусков, кодирование категориальных признаков, и т.д.\n",
        "\n",
        "\n",
        "**Набор данных**\n",
        "\n",
        "https://scikit-learn.org/stable/modules/generated/sklearn.datasets.load_wine.html#sklearn.datasets.load_wine"
      ],
      "metadata": {
        "id": "Daf--k_AzuD2"
      }
    },
    {
      "cell_type": "code",
      "source": [
        "# Импортируем необходимые библиотеки\n",
        "from sklearn.datasets import load_wine\n",
        "import pandas as pd\n",
        "import matplotlib.pyplot as plt\n",
        "import seaborn as sns\n",
        "from sklearn.model_selection import train_test_split, cross_val_score\n",
        "from sklearn.linear_model import LogisticRegression\n",
        "from sklearn.ensemble import GradientBoostingClassifier\n",
        "from sklearn.metrics import accuracy_score, f1_score\n",
        "from sklearn.preprocessing import StandardScaler\n",
        "\n",
        "# Загрузка датасета\n",
        "data = load_wine()\n",
        "\n",
        "# Преобразование в DataFrame\n",
        "df = pd.DataFrame(data.data, columns=data.feature_names)\n",
        "\n",
        "\n",
        "# Выводим первые 5 строк\n",
        "print(df.head())"
      ],
      "metadata": {
        "colab": {
          "base_uri": "https://localhost:8080/"
        },
        "id": "e-mz6-wB0LBL",
        "outputId": "19d8639e-91e4-414c-b6af-796d0e313345"
      },
      "execution_count": 20,
      "outputs": [
        {
          "output_type": "stream",
          "name": "stdout",
          "text": [
            "   alcohol  malic_acid   ash  alcalinity_of_ash  magnesium  total_phenols  \\\n",
            "0    14.23        1.71  2.43               15.6      127.0           2.80   \n",
            "1    13.20        1.78  2.14               11.2      100.0           2.65   \n",
            "2    13.16        2.36  2.67               18.6      101.0           2.80   \n",
            "3    14.37        1.95  2.50               16.8      113.0           3.85   \n",
            "4    13.24        2.59  2.87               21.0      118.0           2.80   \n",
            "\n",
            "   flavanoids  nonflavanoid_phenols  proanthocyanins  color_intensity   hue  \\\n",
            "0        3.06                  0.28             2.29             5.64  1.04   \n",
            "1        2.76                  0.26             1.28             4.38  1.05   \n",
            "2        3.24                  0.30             2.81             5.68  1.03   \n",
            "3        3.49                  0.24             2.18             7.80  0.86   \n",
            "4        2.69                  0.39             1.82             4.32  1.04   \n",
            "\n",
            "   od280/od315_of_diluted_wines  proline  \n",
            "0                          3.92   1065.0  \n",
            "1                          3.40   1050.0  \n",
            "2                          3.17   1185.0  \n",
            "3                          3.45   1480.0  \n",
            "4                          2.93    735.0  \n"
          ]
        }
      ]
    },
    {
      "cell_type": "code",
      "source": [
        "\n",
        "# Проверка на пропуски в данных\n",
        "print(df.isnull().sum())"
      ],
      "metadata": {
        "colab": {
          "base_uri": "https://localhost:8080/"
        },
        "id": "x4BfKPYu4SIV",
        "outputId": "ad0182b3-a18d-476c-9a53-3c69389165a9"
      },
      "execution_count": 21,
      "outputs": [
        {
          "output_type": "stream",
          "name": "stdout",
          "text": [
            "alcohol                         0\n",
            "malic_acid                      0\n",
            "ash                             0\n",
            "alcalinity_of_ash               0\n",
            "magnesium                       0\n",
            "total_phenols                   0\n",
            "flavanoids                      0\n",
            "nonflavanoid_phenols            0\n",
            "proanthocyanins                 0\n",
            "color_intensity                 0\n",
            "hue                             0\n",
            "od280/od315_of_diluted_wines    0\n",
            "proline                         0\n",
            "dtype: int64\n"
          ]
        }
      ]
    },
    {
      "cell_type": "code",
      "source": [
        "# В этом примере пропусков нет\n",
        "# Определяем переменные и целевую переменную\n",
        "X = df\n",
        "y = data.target\n",
        "\n",
        "# Разделяем данные на обучающую и тестирующую выборки\n",
        "X_train, X_test, y_train, y_test = train_test_split(X, y, test_size=0.3, random_state=42)\n",
        "\n",
        "# Нормализация данных\n",
        "scaler = StandardScaler()\n",
        "X_train_scaled = scaler.fit_transform(X_train)\n",
        "X_test_scaled = scaler.transform(X_test)\n",
        "\n",
        "# Обучение логистической регрессии\n",
        "log_reg = LogisticRegression(max_iter=10000)\n",
        "log_reg.fit(X_train_scaled, y_train)\n",
        "\n",
        "# Обучение градиентного бустинга\n",
        "grad_boost = GradientBoostingClassifier()\n",
        "grad_boost.fit(X_train_scaled, y_train)\n",
        "\n",
        "# Предсказания моделей\n",
        "y_pred_log = log_reg.predict(X_test_scaled)\n",
        "y_pred_gb = grad_boost.predict(X_test_scaled)\n",
        "\n",
        "# Оцениваем качество моделей\n",
        "accuracy_lr = accuracy_score(y_test, y_pred_log)\n",
        "f1_score_lr = f1_score(y_test, y_pred_log, average='weighted')\n",
        "accuracy_gb = accuracy_noost = accuracy_score(y_test, y_pred_gb)\n",
        "f1_score_gb = f1_score(y_test, y_pred_gb, average='weighted')\n",
        "\n",
        "print(f\"Логистическая регрессия: Accuracy = {accuracy_lr}, F1-score = {f1_score_lr}\")\n",
        "print(f\"Градиентный бустинг: Accuracy = {accuracy_gb}, F1-score = {f1_score_gb}\")\n"
      ],
      "metadata": {
        "colab": {
          "base_uri": "https://localhost:8080/"
        },
        "id": "hX4sEJBo3oQp",
        "outputId": "dcd0fa21-3dc4-483c-aa9a-88645323f1d9"
      },
      "execution_count": 22,
      "outputs": [
        {
          "output_type": "stream",
          "name": "stdout",
          "text": [
            "Логистическая регрессия: Accuracy = 0.9814814814814815, F1-score = 0.9815749306918357\n",
            "Градиентный бустинг: Accuracy = 0.9074074074074074, F1-score = 0.9061065943992773\n"
          ]
        }
      ]
    },
    {
      "cell_type": "markdown",
      "source": [
        "В этом коде мы использовали метрики `accuracy` (точность) и `F1-score`. Эти метрики выбраны потому, что они хорошо работают для классификационных задач и показывают, насколько хорошо модель справляется с балансировкой между precision и recall в случае F1-score. Accuracy же дает нам общее представление о том, сколько объектов было классифицировано правильным образом.\n",
        "\n",
        "На основании результатов выполненного кода можно сделать выводы относительно качества моделей. В общем, градиентный бустинг иногда превосходит логистическую регрессию в задачах с большим количеством признаков и сложных закономерностях, но требуется тестирование, чтобы подтвердить это ожидание."
      ],
      "metadata": {
        "id": "AZAzfVRB4BrA"
      }
    }
  ]
}